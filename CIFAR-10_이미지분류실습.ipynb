{
 "cells": [
  {
   "cell_type": "code",
   "execution_count": null,
   "metadata": {},
   "outputs": [],
   "source": [
    "# 필요한 라이브러리 로딩\n",
    "from keras.datasets import cifar10\n",
    "import numpy as np\n",
    "import matplotlib.pyplot as plt\n",
    "class_names = ['airplane', 'automobile', 'bird', 'cat', 'deer', 'dog', 'frog', 'horse', 'ship', 'truck']"
   ]
  },
  {
   "cell_type": "code",
   "execution_count": null,
   "metadata": {},
   "outputs": [],
   "source": [
    "# 데이터 불러오기\n",
    "def load_data(path):\n",
    "    (x_train, y_train), (x_test, y_test) = cifar10.load_data()\n",
    "    return (x_train, y_train), (x_test, y_test)"
   ]
  },
  {
   "cell_type": "code",
   "execution_count": null,
   "metadata": {},
   "outputs": [],
   "source": [
    "# 탐색\n",
    "def explore_data(x_train, y_train, x_test, y_test, class_names):\n",
    "    # 데이터 형태 확인\n",
    "    print('데이터 형태 확인')\n",
    "    print(x_train.shape, y_train.shape, x_test.shape, y_test.shape)\n",
    "\n",
    "    # 훈련 데이터 이미지 시각화\n",
    "    for i in range(9):\n",
    "        plt.subplot(3,3,i+1)\n",
    "        plt.imshow(x_train[i])\n",
    "        plt.title(class_names[y_train[i][0]])\n",
    "        plt.axis('off')\n",
    "    plt.show()\n",
    "    \n",
    "    # 테스트 데이터 이미지 시각화\n",
    "    for i in range(9):\n",
    "        plt.subplot(3,3,i+1)\n",
    "        plt.imshow(x_test[i])\n",
    "        plt.title(class_names[y_test[i][0]])\n",
    "        plt.axis('off')\n",
    "    plt.show()"
   ]
  },
  {
   "cell_type": "code",
   "execution_count": null,
   "metadata": {},
   "outputs": [],
   "source": [
    "# 전처리\n",
    "def preprocess_data(data):\n",
    "    pass"
   ]
  },
  {
   "cell_type": "code",
   "execution_count": null,
   "metadata": {},
   "outputs": [],
   "source": [
    "# 모델 구성\n",
    "# 1 VGG BLOCKS\n",
    "def vgg_block_1(x, fillters):\n",
    "    pass\n",
    "# 2 VGG BLOCKS\n",
    "def vgg_model_2(input_shape):\n",
    "    pass\n",
    "# 3 VGG BLOCKS\n",
    "def vgg_model_3(input_shape):\n",
    "    pass"
   ]
  },
  {
   "cell_type": "code",
   "execution_count": null,
   "metadata": {},
   "outputs": [],
   "source": [
    "# 모델 확인\n",
    "def model_summary(model):\n",
    "    pass"
   ]
  },
  {
   "cell_type": "code",
   "execution_count": null,
   "metadata": {},
   "outputs": [],
   "source": [
    "# 모델 컴파일\n",
    "def compile_model(model):\n",
    "    pass"
   ]
  },
  {
   "cell_type": "code",
   "execution_count": null,
   "metadata": {},
   "outputs": [],
   "source": [
    "# 모델 학습\n",
    "def train_model(model, x_train, y_train, x_test, y_test, epochs, batch_size):\n",
    "    pass"
   ]
  },
  {
   "cell_type": "code",
   "execution_count": null,
   "metadata": {},
   "outputs": [],
   "source": [
    "# 테스트 데이터 예측 및 모델 평가\n",
    "def evaluate_model(model, x_test, y_test):\n",
    "    pass"
   ]
  },
  {
   "cell_type": "code",
   "execution_count": null,
   "metadata": {},
   "outputs": [],
   "source": [
    "# 실제 이미지로 예측"
   ]
  }
 ],
 "metadata": {
  "kernelspec": {
   "display_name": "base",
   "language": "python",
   "name": "python3"
  },
  "language_info": {
   "codemirror_mode": {
    "name": "ipython",
    "version": 3
   },
   "file_extension": ".py",
   "mimetype": "text/x-python",
   "name": "python",
   "nbconvert_exporter": "python",
   "pygments_lexer": "ipython3",
   "version": "3.12.4"
  }
 },
 "nbformat": 4,
 "nbformat_minor": 2
}
